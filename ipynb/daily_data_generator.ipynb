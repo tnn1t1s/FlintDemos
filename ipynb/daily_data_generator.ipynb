{
 "cells": [
  {
   "cell_type": "code",
   "execution_count": 3,
   "metadata": {
    "collapsed": false
   },
   "outputs": [
    {
     "data": {
      "text/plain": [
       "<pyspark.context.SparkContext at 0x1020f2828>"
      ]
     },
     "execution_count": 3,
     "metadata": {},
     "output_type": "execute_result"
    }
   ],
   "source": [
    "sc"
   ]
  },
  {
   "cell_type": "code",
   "execution_count": 4,
   "metadata": {
    "collapsed": false
   },
   "outputs": [
    {
     "name": "stdout",
     "output_type": "stream",
     "text": [
      "CPU times: user 2.69 ms, sys: 1.48 ms, total: 4.17 ms\n",
      "Wall time: 3.46 s\n"
     ]
    }
   ],
   "source": [
    "step = 1000000\n",
    "observations_day = 13\n",
    "uid_count = 3000\n",
    "rows_year = observations_day * 252 * uid_count\n",
    "ten_years = rows_year * 10\n",
    "\n",
    "size = ten_years\n",
    "width=20\n",
    "\n",
    "column_names  = [\"time\"]+ list(map(chr, range(97,97 + (width-1))))\n",
    "column_values = list(range(0,width))\n",
    "\n",
    "df = sc.parallelize(range(0, size*1000000, step)).map(lambda x: column_values).toDF(column_names)\n",
    "df.persist()\n",
    "df.write.parquet('myparquet.p')"
   ]
  }
 ],
 "metadata": {
  "anaconda-cloud": {},
  "kernelspec": {
   "display_name": "Python [default]",
   "language": "python",
   "name": "python3"
  },
  "language_info": {
   "codemirror_mode": {
    "name": "ipython",
    "version": 3
   },
   "file_extension": ".py",
   "mimetype": "text/x-python",
   "name": "python",
   "nbconvert_exporter": "python",
   "pygments_lexer": "ipython3",
   "version": "3.5.2"
  }
 },
 "nbformat": 4,
 "nbformat_minor": 2
}
